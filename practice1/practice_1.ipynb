{
 "cells": [
  {
   "cell_type": "markdown",
   "id": "703016b2-c50c-4731-88a1-5524aa9b5cb0",
   "metadata": {
    "deletable": false,
    "editable": false,
    "nbgrader": {
     "cell_type": "markdown",
     "checksum": "c5f14f1f120dbf314165f081fe83f18d",
     "grade": false,
     "grade_id": "cell-e2c7f306f65897b1",
     "locked": true,
     "schema_version": 3,
     "solution": false,
     "task": false
    }
   },
   "source": [
    "[![Open In Colab](https://colab.research.google.com/assets/colab-badge.svg)](https://colab.research.google.com/github/upm-classes/image-understanding-2022-2023/blob/main/practice1/practice_1.ipynb)"
   ]
  },
  {
   "cell_type": "markdown",
   "id": "304842a4-e7a1-4f0d-be3b-af6d0b32d0ff",
   "metadata": {
    "deletable": false,
    "editable": false,
    "nbgrader": {
     "cell_type": "markdown",
     "checksum": "35eb8295989ab069dd7e1dfa2a43d8d3",
     "grade": false,
     "grade_id": "cell-aaf91441c97fc62e",
     "locked": true,
     "schema_version": 3,
     "solution": false,
     "task": false
    },
    "tags": []
   },
   "source": [
    "# Practice 1\n",
    "\n",
    "This is the first practice of image understanding in which we are going to code some of the things we have already seen during classes. "
   ]
  },
  {
   "cell_type": "markdown",
   "id": "98cf51bc-36fa-4d76-860c-ba56b1f01157",
   "metadata": {
    "deletable": false,
    "editable": false,
    "nbgrader": {
     "cell_type": "markdown",
     "checksum": "e90d43fa258a24201cc36da74741066b",
     "grade": false,
     "grade_id": "cell-65461276f381a6ad",
     "locked": true,
     "schema_version": 3,
     "solution": false,
     "task": false
    },
    "tags": []
   },
   "source": [
    "Fill with your data:\n",
    "\n",
    "- Full name 1: \n",
    "- Full name 2: "
   ]
  },
  {
   "cell_type": "markdown",
   "id": "f0dbee13-7f69-4457-8f94-02418580ecac",
   "metadata": {
    "deletable": false,
    "editable": false,
    "nbgrader": {
     "cell_type": "markdown",
     "checksum": "1065c5a6d444189d7e7e9bb34d8d37ce",
     "grade": false,
     "grade_id": "cell-dc9b1b8b7c8e6dcd",
     "locked": true,
     "schema_version": 3,
     "solution": false,
     "task": false
    },
    "tags": []
   },
   "source": [
    "**DO NOT MODIFY (ADD, DELETE,...) ANY CELL. YOU HAVE TO WRITE YOUR CODE ONLY IN THE SPECIFIED CELLS.**"
   ]
  },
  {
   "cell_type": "code",
   "execution_count": null,
   "id": "29b6c913-c485-4230-97f3-8e90ba0c6d5e",
   "metadata": {
    "deletable": false,
    "editable": false,
    "nbgrader": {
     "cell_type": "code",
     "checksum": "09f968236f265cd24f9fbc928f3c0ccc",
     "grade": false,
     "grade_id": "cell-d4a2acaca9b31bb6",
     "locked": true,
     "schema_version": 3,
     "solution": false,
     "task": false
    },
    "tags": []
   },
   "outputs": [],
   "source": [
    "# These are the libraries that should be used. \n",
    "# NO OTHER LIBRARIES ARE ALLOWED\n",
    "from typing import Tuple\n",
    "from skimage.io import imread\n",
    "from skimage.transform import resize\n",
    "import numpy as np\n",
    "from scipy.signal import convolve2d\n",
    "import matplotlib.pyplot as plt # Only to plot the images"
   ]
  },
  {
   "cell_type": "code",
   "execution_count": null,
   "id": "be179e19-0081-4632-b63e-12e167b2c423",
   "metadata": {
    "deletable": false,
    "editable": false,
    "nbgrader": {
     "cell_type": "code",
     "checksum": "d1b28bb5ce27bc01fc389c7baaf25d6e",
     "grade": false,
     "grade_id": "cell-c847e954b086110a",
     "locked": true,
     "schema_version": 3,
     "solution": false,
     "task": false
    },
    "tags": []
   },
   "outputs": [],
   "source": [
    "# Reading image\n",
    "image = imread('kittycat.jpg')\n",
    "\n",
    "# Plotting image\n",
    "plt.figure(figsize=(2,2))\n",
    "plt.imshow(image)\n",
    "plt.show()"
   ]
  },
  {
   "cell_type": "markdown",
   "id": "4678faf6-4ec4-494c-ba81-dc2e962804a9",
   "metadata": {
    "deletable": false,
    "editable": false,
    "nbgrader": {
     "cell_type": "markdown",
     "checksum": "e93a40532a9033ab0a57fc812619d969",
     "grade": false,
     "grade_id": "cell-1b77eac23098a20d",
     "locked": true,
     "schema_version": 3,
     "solution": false,
     "task": false
    }
   },
   "source": [
    "## Task 1: Basic image statistics (2 points)"
   ]
  },
  {
   "cell_type": "code",
   "execution_count": null,
   "id": "5cc8b38c-b3fe-4760-a523-24a58b353503",
   "metadata": {
    "deletable": false,
    "nbgrader": {
     "cell_type": "code",
     "checksum": "b62ca49bbfd7d60ce153612ba7ff84c2",
     "grade": false,
     "grade_id": "image_statistics",
     "locked": false,
     "schema_version": 3,
     "solution": true,
     "task": false
    },
    "tags": []
   },
   "outputs": [],
   "source": [
    "def image_statistics(image: np.array) -> Tuple[float, float, float]:\n",
    "    \"\"\"\n",
    "    Given a grayscale image of 8-bits, it should return a tuple with\n",
    "    the maximum, minimum and average values of the\n",
    "    pixels.\n",
    "    \"\"\"\n",
    "    # YOUR CODE HERE\n",
    "    raise NotImplementedError()"
   ]
  },
  {
   "cell_type": "code",
   "execution_count": null,
   "id": "cc69ac01-8f47-4484-91ef-4188337aa402",
   "metadata": {
    "deletable": false,
    "editable": false,
    "nbgrader": {
     "cell_type": "code",
     "checksum": "46d34e72f69019317d485b8345b53ee6",
     "grade": true,
     "grade_id": "image_statistics_test",
     "locked": true,
     "points": 1,
     "schema_version": 3,
     "solution": false,
     "task": false
    },
    "tags": []
   },
   "outputs": [],
   "source": [
    "# Tests that your function must pass\n",
    "\n",
    "assert image_statistics(image[:,:,0])[0] == 255\n",
    "assert image_statistics(image[:,:,0])[1] == 0\n",
    "assert np.isclose(image_statistics(image[:,:,0])[2], 131.103)\n"
   ]
  },
  {
   "cell_type": "code",
   "execution_count": null,
   "id": "65e33b51-bc25-493b-9dd0-8dbc90ac1b8a",
   "metadata": {
    "deletable": false,
    "nbgrader": {
     "cell_type": "code",
     "checksum": "902ea95852fd087b1e478a050b7eeb56",
     "grade": false,
     "grade_id": "histogram",
     "locked": false,
     "schema_version": 3,
     "solution": true,
     "task": false
    },
    "tags": []
   },
   "outputs": [],
   "source": [
    "def calculate_histogram(image: np.array, bins: int = 255) -> Tuple[np.array, np.array]:\n",
    "    \"\"\"\n",
    "    Given a grayscale image of 8-bits, it should return two numpy \n",
    "    arrays: the first one a numpy array with the histogram\n",
    "    and the second one with the bin edges according to the \n",
    "    number of bins selected. You should use a numpy \n",
    "    function to calculate the histogram.\n",
    "    \"\"\"\n",
    "    # YOUR CODE HERE\n",
    "    raise NotImplementedError()"
   ]
  },
  {
   "cell_type": "markdown",
   "id": "0c3019d4-b2fd-42f0-8ac9-e0ce40def646",
   "metadata": {
    "deletable": false,
    "editable": false,
    "nbgrader": {
     "cell_type": "markdown",
     "checksum": "ceb64b8deedc31412ce7d453032cc76a",
     "grade": false,
     "grade_id": "cell-ff821c20f0226cc3",
     "locked": true,
     "schema_version": 3,
     "solution": false,
     "task": false
    },
    "tags": []
   },
   "source": [
    "To check if your answer is correct you should obtain \n",
    "the same graphic as this one in the next cell.\n",
    "\n",
    "![image](hist.png)\n"
   ]
  },
  {
   "cell_type": "code",
   "execution_count": null,
   "id": "fcd4bd96-c051-432d-ba04-e10d353d2670",
   "metadata": {
    "deletable": false,
    "editable": false,
    "nbgrader": {
     "cell_type": "code",
     "checksum": "4df1e9c52d30f171dd2ec64de082c125",
     "grade": false,
     "grade_id": "cell-27b01fac88dd6ae4",
     "locked": true,
     "schema_version": 3,
     "solution": false,
     "task": false
    },
    "tags": []
   },
   "outputs": [],
   "source": [
    "hist, edges = calculate_histogram(image[:,:,0])\n",
    "\n",
    "plt.figure(figsize=(4,3))\n",
    "plt.bar(edges[1:], hist)\n",
    "plt.xlabel('Pixel values')\n",
    "plt.ylabel('Frequency')\n",
    "plt.show()"
   ]
  },
  {
   "cell_type": "code",
   "execution_count": null,
   "id": "6bf24ec5-15b4-4427-b419-c311c7d86d14",
   "metadata": {
    "deletable": false,
    "editable": false,
    "nbgrader": {
     "cell_type": "code",
     "checksum": "684c84cc3fecde640fb64f527520f1a8",
     "grade": true,
     "grade_id": "histogram_test",
     "locked": true,
     "points": 1,
     "schema_version": 3,
     "solution": false,
     "task": false
    },
    "tags": []
   },
   "outputs": [],
   "source": [
    "try:\n",
    "    assert (calculate_histogram(image[:,:,0], 5)[0] == np.array([8331,54144,55237,33667,25021])).all()\n",
    "except:\n",
    "    assert (calculate_histogram(image[:,:,0], 5)[0] == np.array([8340, 54234, 55086, 33685, 25055])).all()"
   ]
  },
  {
   "cell_type": "markdown",
   "id": "f9577170-2370-4743-8c8f-91d5665213b0",
   "metadata": {
    "deletable": false,
    "editable": false,
    "nbgrader": {
     "cell_type": "markdown",
     "checksum": "abab9f4ff945720135fdfaa4f94a9d15",
     "grade": false,
     "grade_id": "cell-8d04ae59f5687557",
     "locked": true,
     "schema_version": 3,
     "solution": false,
     "task": false
    },
    "tags": []
   },
   "source": [
    "### Task 2: Image transformations (4 points)"
   ]
  },
  {
   "cell_type": "code",
   "execution_count": null,
   "id": "7a4e6c4a-f6f0-4b20-a9e2-40e3c902dc0b",
   "metadata": {
    "deletable": false,
    "nbgrader": {
     "cell_type": "code",
     "checksum": "f490bd60cf18beedaf99353c0ea10351",
     "grade": false,
     "grade_id": "invert_image",
     "locked": false,
     "schema_version": 3,
     "solution": true,
     "task": false
    },
    "tags": []
   },
   "outputs": [],
   "source": [
    "def invert_image(image: np.array) -> np.array:\n",
    "    \"\"\"\n",
    "    Function that inverts a grayscale image of 8-bits. Dark areas should be brighter \n",
    "    and bright areas should be darker.It is equal to the operation (255 - image).\n",
    "    The result should be a uint8 numpy array.\n",
    "    \"\"\"\n",
    "    # YOUR CODE HERE\n",
    "    raise NotImplementedError()"
   ]
  },
  {
   "cell_type": "code",
   "execution_count": null,
   "id": "76c68e61-2df4-4b54-9a6e-d37845ea933f",
   "metadata": {
    "deletable": false,
    "editable": false,
    "nbgrader": {
     "cell_type": "code",
     "checksum": "af4403f750b6d935b5543a311a048856",
     "grade": false,
     "grade_id": "cell-d73235a259dd3228",
     "locked": true,
     "schema_version": 3,
     "solution": false,
     "task": false
    },
    "tags": []
   },
   "outputs": [],
   "source": [
    "fig, axes = plt.subplots(nrows=1, ncols=2, sharex=True, sharey=True, figsize=(5, 2))\n",
    "im_0 = axes[0].imshow(image[:,:,0], cmap='gray')\n",
    "fig.colorbar(im_0, ax=axes[0])\n",
    "im_1 = axes[1].imshow(invert_image(image[:,:,0]), cmap='gray')\n",
    "fig.colorbar(im_1, ax=axes[1])\n",
    "plt.show()"
   ]
  },
  {
   "cell_type": "code",
   "execution_count": null,
   "id": "84bab9c5-4b5c-4180-8317-f4abe168c6e2",
   "metadata": {
    "deletable": false,
    "editable": false,
    "nbgrader": {
     "cell_type": "code",
     "checksum": "c108bf57fbfa50ba38529d2e5aa9c709",
     "grade": true,
     "grade_id": "invert_image_test",
     "locked": true,
     "points": 1,
     "schema_version": 3,
     "solution": false,
     "task": false
    },
    "tags": []
   },
   "outputs": [],
   "source": [
    "assert invert_image(image[:,:,0]).dtype == 'uint8'\n",
    "assert (invert_image(np.array([233, 255, 0], dtype='uint8')) == np.array([22,0,255], dtype='uint8')).all()"
   ]
  },
  {
   "cell_type": "code",
   "execution_count": null,
   "id": "d33c1b3c-f93a-42f2-9a19-ada6c94ef1e8",
   "metadata": {
    "deletable": false,
    "nbgrader": {
     "cell_type": "code",
     "checksum": "340274a2ae3a26ee8ac35834d2ebe215",
     "grade": false,
     "grade_id": "rotate_flip_image",
     "locked": false,
     "schema_version": 3,
     "solution": true,
     "task": false
    },
    "tags": []
   },
   "outputs": [],
   "source": [
    "def rotate_flip_image(image: np.array, rotation: int = 0, flip: bool = False) -> np.array:\n",
    "    \"\"\"\n",
    "    This function should rotate an rgb image 0, 90, 180 or 270 degrees. \n",
    "    Other angle should return the following message: 'Error: the angle specified is not valid.'.  \n",
    "    When flip is True, the image is mirrored over the x axis. \n",
    "    \"\"\"\n",
    "    # YOUR CODE HERE\n",
    "    raise NotImplementedError()"
   ]
  },
  {
   "cell_type": "code",
   "execution_count": null,
   "id": "dccf209b-3d25-408c-a596-da1701d87c88",
   "metadata": {
    "deletable": false,
    "editable": false,
    "nbgrader": {
     "cell_type": "code",
     "checksum": "be89744043a9a7bb29fb7057075935a2",
     "grade": false,
     "grade_id": "cell-f007e689be89c3f6",
     "locked": true,
     "schema_version": 3,
     "solution": false,
     "task": false
    },
    "tags": []
   },
   "outputs": [],
   "source": [
    "# Visualization of the results\n",
    "\n",
    "fig, axes = plt.subplots(nrows=2, ncols=2, figsize=(4, 4))\n",
    "im_0 = axes[0,0].imshow(image)\n",
    "im_1 = axes[0,1].imshow(rotate_flip_image(image, rotation=90))\n",
    "im_2 = axes[1,0].imshow(rotate_flip_image(image, rotation=90, flip=True))\n",
    "im_3 = axes[1,1].imshow(rotate_flip_image(image, rotation=270, flip=True))\n",
    "plt.setp(axes, xticks=[], yticks=[])\n",
    "plt.show()"
   ]
  },
  {
   "cell_type": "code",
   "execution_count": null,
   "id": "77010a32-de42-443f-9e63-d08ef41e2de4",
   "metadata": {
    "deletable": false,
    "editable": false,
    "nbgrader": {
     "cell_type": "code",
     "checksum": "c1481d4787568a23cceb599c813dd492",
     "grade": true,
     "grade_id": "rotate_flip_image_test",
     "locked": true,
     "points": 1,
     "schema_version": 3,
     "solution": false,
     "task": false
    },
    "tags": []
   },
   "outputs": [],
   "source": [
    "assert rotate_flip_image(image, rotation=90, flip=True).dtype == 'uint8'\n",
    "assert rotate_flip_image(image, rotation=1) == 'Error: the angle specified is not valid.'\n",
    "assert (rotate_flip_image(np.array([[1,2],[3,4]],dtype='uint8'), rotation=90, flip=True) == np.array([[4,2],[3, 1]], dtype='uint8')).all()\n",
    "assert (rotate_flip_image(np.array([[1,2],[3,4]],dtype='uint8'), rotation=180) == np.array([[4,3],[2, 1]], dtype='uint8')).all()\n",
    "assert (rotate_flip_image(np.array([[1,2],[3,4]],dtype='uint8'), rotation=270, flip=True) == np.array([[1,3],[2, 4]], dtype='uint8')).all()"
   ]
  },
  {
   "cell_type": "code",
   "execution_count": null,
   "id": "4c4f472b-6949-461c-8c0a-5ef842f54549",
   "metadata": {
    "deletable": false,
    "nbgrader": {
     "cell_type": "code",
     "checksum": "653e5b61f43468b0ecb1eafff403cca2",
     "grade": false,
     "grade_id": "color_depth",
     "locked": false,
     "schema_version": 3,
     "solution": true,
     "task": false
    },
    "tags": []
   },
   "outputs": [],
   "source": [
    "def color_depth(image: np.array, number_bits: int) -> np.array:\n",
    "    \"\"\"\n",
    "    The input is a grayscale image of 8-bits. The output image should be rescaled to \n",
    "    the number of bits indicated. The data type of the output should be uint16.\n",
    "    \"\"\"\n",
    "    # YOUR CODE HERE\n",
    "    raise NotImplementedError()"
   ]
  },
  {
   "cell_type": "code",
   "execution_count": null,
   "id": "154fac22-2f0e-4e0c-bc15-f1c46da34632",
   "metadata": {
    "deletable": false,
    "editable": false,
    "nbgrader": {
     "cell_type": "code",
     "checksum": "285c521a550f60b075d0b90bd4e7f9a8",
     "grade": false,
     "grade_id": "cell-8adec9435cb159b4",
     "locked": true,
     "schema_version": 3,
     "solution": false,
     "task": false
    },
    "tags": []
   },
   "outputs": [],
   "source": [
    "# Visualization of the results\n",
    "\n",
    "fig, axes = plt.subplots(nrows=2, ncols=2, sharex=True, sharey=True, figsize=(6, 4))\n",
    "number_bits = 8\n",
    "im_0 = axes[0,0].imshow(color_depth(image[:,:,0], number_bits), vmax=2**number_bits, vmin=0, cmap='gray')\n",
    "fig.colorbar(im_0, ax=axes[0,0])\n",
    "number_bits = 4\n",
    "im_1 = axes[0,1].imshow(color_depth(image[:,:,0], number_bits), vmax=2**number_bits, vmin=0, cmap='gray')\n",
    "fig.colorbar(im_1, ax=axes[0,1])\n",
    "number_bits = 2\n",
    "im_2 = axes[1,0].imshow(color_depth(image[:,:,0], number_bits), vmax=2**number_bits, vmin=0, cmap='gray')\n",
    "fig.colorbar(im_2, ax=axes[1,0])\n",
    "number_bits = 1\n",
    "im_3 = axes[1,1].imshow(color_depth(image[:,:,0], number_bits), vmax=2**number_bits, vmin=0, cmap='gray')\n",
    "fig.colorbar(im_3, ax=axes[1,1])\n",
    "plt.setp(axes, xticks=[], yticks=[])\n",
    "plt.show()"
   ]
  },
  {
   "cell_type": "code",
   "execution_count": null,
   "id": "b33c936e-d8fe-4b3c-bac3-ebf1f736e496",
   "metadata": {
    "deletable": false,
    "editable": false,
    "nbgrader": {
     "cell_type": "code",
     "checksum": "976fe4759fc39ca6b3169cfa52f20265",
     "grade": true,
     "grade_id": "color_depth_test",
     "locked": true,
     "points": 1,
     "schema_version": 3,
     "solution": false,
     "task": false
    },
    "tags": []
   },
   "outputs": [],
   "source": [
    "assert color_depth(np.array([0, 125, 255], dtype='uint8'), 8).dtype == 'uint16'\n",
    "assert (color_depth(np.array([0, 125, 255], dtype='uint8'), 8) == np.array([0, 125, 255], dtype='uint16')).all()\n",
    "assert (color_depth(np.array([0, 125, 255], dtype='uint8'), 4) == np.array([0, 7, 15], dtype='uint16')).all()\n",
    "assert (color_depth(np.array([0, 125, 255], dtype='uint8'), 2) == np.array([0, 1, 3], dtype='uint16')).all()"
   ]
  },
  {
   "cell_type": "code",
   "execution_count": null,
   "id": "21acf73f-601a-4ffa-ad77-2f464f874490",
   "metadata": {
    "deletable": false,
    "nbgrader": {
     "cell_type": "code",
     "checksum": "242b35427ff779ba155bcf2dbd9bad8d",
     "grade": false,
     "grade_id": "halve_image",
     "locked": false,
     "schema_version": 3,
     "solution": true,
     "task": false
    },
    "tags": []
   },
   "outputs": [],
   "source": [
    "def halve_image(image: np.array, times: int) -> np.array:\n",
    "    \"\"\"\n",
    "    The input image is an 8-bit rgb image. The output image must be reduced by \n",
    "    half the number of times indicated. If the new size is not an integer you  \n",
    "    have to truncate the decimals. The output image should be an 8-bit image.\n",
    "    You can use the resize function of scikit-image with preserve_range=True,\n",
    "    No open-cv function is allowed.\n",
    "    \"\"\"\n",
    "    # YOUR CODE HERE\n",
    "    raise NotImplementedError()"
   ]
  },
  {
   "cell_type": "code",
   "execution_count": null,
   "id": "49036c1f-3983-4174-bd4a-f782fea1b862",
   "metadata": {
    "deletable": false,
    "editable": false,
    "nbgrader": {
     "cell_type": "code",
     "checksum": "cdc68eaa0bf558f02eed84aee9a3af6c",
     "grade": false,
     "grade_id": "cell-964703920ca275e7",
     "locked": true,
     "schema_version": 3,
     "solution": false,
     "task": false
    },
    "tags": []
   },
   "outputs": [],
   "source": [
    "# Visualization of the results\n",
    "\n",
    "fig, axes = plt.subplots(nrows=2, ncols=2, figsize=(6, 4))\n",
    "im_0 = axes[0,0].imshow(halve_image(image, times=1))\n",
    "im_1 = axes[0,1].imshow(halve_image(image, times=2))\n",
    "im_2 = axes[1,0].imshow(halve_image(image, times=3))\n",
    "im_3 = axes[1,1].imshow(halve_image(image, times=4))\n",
    "plt.show()"
   ]
  },
  {
   "cell_type": "code",
   "execution_count": null,
   "id": "3fd1cedf-683b-4cd5-8075-a7929cdfdc3b",
   "metadata": {
    "deletable": false,
    "editable": false,
    "nbgrader": {
     "cell_type": "code",
     "checksum": "824dca3cbfcada8c2b723b7d060fceae",
     "grade": true,
     "grade_id": "halve_image_test",
     "locked": true,
     "points": 1,
     "schema_version": 3,
     "solution": false,
     "task": false
    },
    "tags": []
   },
   "outputs": [],
   "source": [
    "assert halve_image(image, times=2).dtype == 'uint8'\n",
    "assert (halve_image(image, 0).shape == np.array([420, 420, 3])).all()\n",
    "assert (halve_image(image, 3).shape == np.array([52, 52, 3])).all()\n",
    "assert (halve_image(image, 5).shape == np.array([13, 13, 3])).all()\n",
    "assert (halve_image(image, 8) == np.array([[[131, 149,  99]]], dtype='uint8')).all()\n"
   ]
  },
  {
   "cell_type": "markdown",
   "id": "2b3dd31d-e513-4b5f-b09c-248fdc1fe690",
   "metadata": {
    "deletable": false,
    "editable": false,
    "nbgrader": {
     "cell_type": "markdown",
     "checksum": "96a9c51108457ecef8c8ffef9466055e",
     "grade": false,
     "grade_id": "cell-63e41f617f8a85cd",
     "locked": true,
     "schema_version": 3,
     "solution": false,
     "task": false
    },
    "tags": []
   },
   "source": [
    "### Spatial filters (2 points)"
   ]
  },
  {
   "cell_type": "code",
   "execution_count": null,
   "id": "feb359e5-74e3-482e-bf45-356c177d0b8a",
   "metadata": {
    "deletable": false,
    "editable": false,
    "nbgrader": {
     "cell_type": "code",
     "checksum": "0deb26735a09e28e8573eef4bb843db2",
     "grade": false,
     "grade_id": "cell-e6bce6a9b35dd14f",
     "locked": true,
     "schema_version": 3,
     "solution": false,
     "task": false
    },
    "tags": []
   },
   "outputs": [],
   "source": [
    "def convolve(image: np.array, kernel: np.array) -> np.array:\n",
    "    \"\"\"\n",
    "    Funtion to convolve a grayscale image given a kernel.\n",
    "    \"\"\"\n",
    "    im = image.astype(np.float32)\n",
    "    result = convolve2d(im, kernel, boundary='symm', mode='same')\n",
    "    return result"
   ]
  },
  {
   "cell_type": "code",
   "execution_count": null,
   "id": "c262c189-2939-4530-9d04-dfac296892c6",
   "metadata": {
    "deletable": false,
    "editable": false,
    "nbgrader": {
     "cell_type": "code",
     "checksum": "759ae78cec2ffed62bcb54027b4c1208",
     "grade": false,
     "grade_id": "cell-ec60f8d4f2f35bc5",
     "locked": true,
     "schema_version": 3,
     "solution": false,
     "task": false
    },
    "tags": []
   },
   "outputs": [],
   "source": [
    "# Example of the effect of a kernel for smoothing an image\n",
    "kernel = np.array([[1,1,1],[1,9,1], [1,1,1]])\n",
    "\n",
    "image_channel = image[:,:,0]\n",
    "convolved = convolve(image_channel, kernel)\n",
    "\n",
    "fig, axes = plt.subplots(nrows=3, ncols=2, figsize=(6, 8))\n",
    "im_0 = axes[0,0].imshow(image_channel, cmap='gray')\n",
    "fig.colorbar(im_0, ax=axes[0,0])\n",
    "im_1 = axes[0,1].imshow(convolved, cmap='gray')\n",
    "fig.colorbar(im_1, ax=axes[0,1])\n",
    "im_2 = axes[1,0].imshow(image_channel[50:100, 50:100], cmap='gray')\n",
    "fig.colorbar(im_2, ax=axes[1,0])\n",
    "im_3 = axes[1,1].imshow(convolved[50:100, 50:100], cmap='gray')\n",
    "fig.colorbar(im_3, ax=axes[1,1])\n",
    "im_4 = axes[2,0].imshow(image_channel[100:150, 100:150], cmap='gray')\n",
    "fig.colorbar(im_4, ax=axes[2,0])\n",
    "im_5 = axes[2,1].imshow(convolved[100:150, 100:150], cmap='gray')\n",
    "fig.colorbar(im_5, ax=axes[2,1])\n",
    "plt.setp(axes, xticks=[], yticks=[])\n",
    "plt.show()"
   ]
  },
  {
   "cell_type": "code",
   "execution_count": null,
   "id": "8352b159-e8cb-4c74-b7dc-2cd4b2dad6cd",
   "metadata": {
    "deletable": false,
    "nbgrader": {
     "cell_type": "code",
     "checksum": "acde2024cdfcbbba0b353b55bb6c13a5",
     "grade": false,
     "grade_id": "sobel",
     "locked": false,
     "schema_version": 3,
     "solution": true,
     "task": false
    },
    "tags": []
   },
   "outputs": [],
   "source": [
    "def sobel_filtering(image: np.array) -> np.array:\n",
    "    \"\"\"\n",
    "    Define the function using the filters sobel_x and sobel_y using function \"convolve\" \n",
    "    defined before. The input is an grayscale image of 8-bits. The output is a gradient\n",
    "    image calcluated using sobel operators both x and y.\n",
    "    \"\"\"\n",
    "    # YOUR CODE HERE\n",
    "    raise NotImplementedError()"
   ]
  },
  {
   "cell_type": "code",
   "execution_count": null,
   "id": "cc91bb1a-95e0-40ef-8658-0f0d618ceffd",
   "metadata": {
    "deletable": false,
    "editable": false,
    "nbgrader": {
     "cell_type": "code",
     "checksum": "ce8325e8c3d658b92f520b3c0381ef12",
     "grade": false,
     "grade_id": "cell-64cbf1c214d74f62",
     "locked": true,
     "schema_version": 3,
     "solution": false,
     "task": false
    },
    "tags": []
   },
   "outputs": [],
   "source": [
    "# Visualization of the results\n",
    "\n",
    "filtered_image = sobel_filtering(image[:,:,0])\n",
    "\n",
    "fig, axes = plt.subplots(nrows=1, ncols=2, figsize=(6, 8))\n",
    "im_0 = axes[0].imshow(image_channel, cmap='gray')\n",
    "im_1 = axes[1].imshow(filtered_image, cmap='gray')\n",
    "plt.setp(axes, xticks=[], yticks=[])\n",
    "plt.show()"
   ]
  },
  {
   "cell_type": "code",
   "execution_count": null,
   "id": "be8aea6c-db8b-4aa8-931a-8a9e8e9a0a70",
   "metadata": {
    "deletable": false,
    "editable": false,
    "nbgrader": {
     "cell_type": "code",
     "checksum": "ace8e1919d31f268465580a4a54e9db3",
     "grade": true,
     "grade_id": "sobel_test",
     "locked": true,
     "points": 2,
     "schema_version": 3,
     "solution": false,
     "task": false
    },
    "tags": []
   },
   "outputs": [],
   "source": [
    "sample = np.array([[149.271,117.889,51.478],[53.907,90.785,62.6258],\n",
    "                   [63.529,43.863,93.648]])\n",
    "assert np.isclose(sobel_filtering(image[:,:,0])[100:103, 99:102], sample).all()"
   ]
  }
 ],
 "metadata": {
  "kernelspec": {
   "display_name": "Python 3 (ipykernel)",
   "language": "python",
   "name": "python3"
  },
  "language_info": {
   "codemirror_mode": {
    "name": "ipython",
    "version": 3
   },
   "file_extension": ".py",
   "mimetype": "text/x-python",
   "name": "python",
   "nbconvert_exporter": "python",
   "pygments_lexer": "ipython3",
   "version": "3.8.16"
  }
 },
 "nbformat": 4,
 "nbformat_minor": 5
}
