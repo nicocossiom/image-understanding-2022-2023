{
 "cells": [
  {
   "cell_type": "markdown",
   "id": "f9ceacdd-48b6-4b52-841d-282d138c6e47",
   "metadata": {},
   "source": [
    "[![Open In Colab](https://colab.research.google.com/assets/colab-badge.svg)](https://colab.research.google.com/github/upm-classes/image-understanding-2022-2023/blob/main/practice3/practice3.ipynb)"
   ]
  },
  {
   "cell_type": "markdown",
   "id": "04f684dc-9716-49da-8b70-c9f2a00c66e9",
   "metadata": {
    "deletable": false,
    "editable": false,
    "nbgrader": {
     "cell_type": "markdown",
     "checksum": "d9e251ae72ba32beabe3d62557f9a078",
     "grade": false,
     "grade_id": "cell-bfdabd3f58303023",
     "locked": true,
     "schema_version": 3,
     "solution": false,
     "task": false
    },
    "tags": []
   },
   "source": [
    "Fill with your data:\n",
    "\n",
    "- Full name 1: \n",
    "- Full name 2: "
   ]
  },
  {
   "cell_type": "markdown",
   "id": "e32ea75f-b667-4c0c-ad3a-61d631fac00b",
   "metadata": {
    "deletable": false,
    "editable": false,
    "nbgrader": {
     "cell_type": "markdown",
     "checksum": "6f3bae461ec0e2df925a8a052488ecf8",
     "grade": false,
     "grade_id": "cell-1e5a60ea4a9d8662",
     "locked": true,
     "schema_version": 3,
     "solution": false,
     "task": false
    }
   },
   "source": [
    "# Image classification\n",
    "\n",
    "In this practice, you will learn how to build an image classifier using PyTorch in Google Colab. You will use the CIFAR-10 dataset, which consists of 60,000 32x32 color images in 10 classes. The goal is to train a neural network to correctly classify the images into their respective classes."
   ]
  },
  {
   "cell_type": "markdown",
   "id": "563e41bb-3cdd-44b1-a408-a8afc68a2d97",
   "metadata": {
    "deletable": false,
    "editable": false,
    "nbgrader": {
     "cell_type": "markdown",
     "checksum": "89313e389a67e91c839994fdaed88123",
     "grade": false,
     "grade_id": "cell-7276f5eebecda37b",
     "locked": true,
     "schema_version": 3,
     "solution": false,
     "task": false
    }
   },
   "source": [
    "### Step 1: Set up Google Colab\n",
    "\n",
    "Make sure to select \"GPU\" as the runtime type. For this you need to click on the menu Runtime/Change Runtime Type and select GPU."
   ]
  },
  {
   "cell_type": "code",
   "execution_count": null,
   "id": "acc7b0dc-f342-4711-9db7-bd2bf207cfcc",
   "metadata": {
    "deletable": false,
    "editable": false,
    "nbgrader": {
     "cell_type": "code",
     "checksum": "7fbad66ad2f2eac2b67a21e94073234d",
     "grade": false,
     "grade_id": "cell-55228131ca329d43",
     "locked": true,
     "schema_version": 3,
     "solution": false,
     "task": false
    },
    "tags": []
   },
   "outputs": [],
   "source": [
    "import torch\n",
    "import torchvision\n",
    "import torchvision.transforms as transforms\n",
    "import torch.nn as nn\n",
    "import torch.nn.functional as F\n",
    "import torch.optim as optim\n",
    "from tqdm import tqdm\n",
    "import matplotlib.pyplot as plt\n",
    "import numpy as np\n",
    "import os\n",
    "from sklearn.metrics import confusion_matrix, ConfusionMatrixDisplay\n",
    "import matplotlib.pyplot as plt\n",
    "\n",
    "device = torch.device('cuda' if torch.cuda.is_available() else 'cpu')\n",
    "print('Device:', device)\n",
    "\n",
    "assert device.type == 'cuda', 'GPU is not selected.'"
   ]
  },
  {
   "cell_type": "code",
   "execution_count": null,
   "id": "e83a4ef2-e8ef-4266-8e5a-ea851dff5cb4",
   "metadata": {
    "deletable": false,
    "editable": false,
    "nbgrader": {
     "cell_type": "code",
     "checksum": "1920a84a3b542b727f413926312d7ed3",
     "grade": false,
     "grade_id": "cell-c15cff7e6d94d43a",
     "locked": true,
     "schema_version": 3,
     "solution": false,
     "task": false
    },
    "tags": []
   },
   "outputs": [],
   "source": [
    "def set_seed(seed):\n",
    "    # Function to ensure the reproducibility of the results\n",
    "    torch.backends.cudnn.deterministic = True\n",
    "    torch.backends.cudnn.benchmark = True\n",
    "    np.random.seed(seed)\n",
    "    torch.manual_seed(seed)\n",
    "    torch.cuda.manual_seed(seed)"
   ]
  },
  {
   "cell_type": "markdown",
   "id": "62c70c70-a38f-4a56-8b02-98b3de3ffaa7",
   "metadata": {
    "deletable": false,
    "editable": false,
    "nbgrader": {
     "cell_type": "markdown",
     "checksum": "491967ea3e32b70bc3dd1ba4613bc74f",
     "grade": false,
     "grade_id": "cell-e3d9f790d008d1ea",
     "locked": true,
     "schema_version": 3,
     "solution": false,
     "task": false
    },
    "tags": []
   },
   "source": [
    "### Step 2: Load the CIFAR-10 dataset\n",
    "\n",
    "Next, you will load the CIFAR-10 dataset using PyTorch's built-in datasets module. You will also split the dataset into training and validation sets."
   ]
  },
  {
   "cell_type": "code",
   "execution_count": null,
   "id": "a11aaee6-dbd9-4010-8ed4-aea46a525713",
   "metadata": {
    "deletable": false,
    "editable": false,
    "nbgrader": {
     "cell_type": "code",
     "checksum": "5a41a27b64b70b7bb78c9c29bfa610da",
     "grade": false,
     "grade_id": "cell-3e4043210ad92a0a",
     "locked": true,
     "schema_version": 3,
     "solution": false,
     "task": false
    },
    "tags": []
   },
   "outputs": [],
   "source": [
    "set_seed(0)\n",
    "batch_size = 10\n",
    "\n",
    "# Define the transforms to be applied to the data\n",
    "transform = transforms.Compose([\n",
    "    transforms.ToTensor(),\n",
    "    transforms.Normalize((0.5, 0.5, 0.5), (0.5, 0.5, 0.5))\n",
    "])\n",
    "\n",
    "# Load the CIFAR-10 dataset\n",
    "trainset = torchvision.datasets.CIFAR10(root='./data', train=True,\n",
    "                                        download=True, transform=transform)\n",
    "testset = torchvision.datasets.CIFAR10(root='./data', train=False,\n",
    "                                       download=True, transform=transform)\n",
    "\n",
    "# Split the training set into training and validation sets\n",
    "trainset, valset = torch.utils.data.random_split(trainset, [40000, 10000])\n",
    "\n",
    "\n",
    "# Initialize the data loader for the training set\n",
    "trainloader = torch.utils.data.DataLoader(trainset, batch_size=batch_size,\n",
    "                                          shuffle=True, num_workers=2)\n",
    "validloader = torch.utils.data.DataLoader(valset, batch_size=batch_size,\n",
    "                                          shuffle=False, num_workers=2)\n",
    "testloader = torch.utils.data.DataLoader(testset, batch_size=batch_size, \n",
    "                                         shuffle=False, num_workers=2)\n",
    "\n",
    "classes = ('plane', 'car', 'bird', 'cat', 'deer', 'dog', 'frog', \n",
    "           'horse', 'ship', 'truck')"
   ]
  },
  {
   "cell_type": "code",
   "execution_count": null,
   "id": "852528a8-78df-4632-99a0-02f3ebc10738",
   "metadata": {
    "deletable": false,
    "editable": false,
    "nbgrader": {
     "cell_type": "code",
     "checksum": "121804e19f072ae676cc3a21c55d3b03",
     "grade": false,
     "grade_id": "cell-a2b0e89303d1ad3c",
     "locked": true,
     "schema_version": 3,
     "solution": false,
     "task": false
    },
    "tags": []
   },
   "outputs": [],
   "source": [
    "# functions to show an image\n",
    "def imshow(img):\n",
    "    img = img / 2 + 0.5     # unnormalize\n",
    "    npimg = img.numpy()\n",
    "    plt.imshow(np.transpose(npimg, (1, 2, 0)))\n",
    "    plt.show()\n",
    "\n",
    "\n",
    "# get some random training images\n",
    "dataiter = iter(trainloader)\n",
    "images, labels = next(dataiter)\n",
    "\n",
    "# show images\n",
    "imshow(torchvision.utils.make_grid(images))\n",
    "# print labels\n",
    "print(' '.join(f'{classes[labels[j]]:5s}' for j in range(batch_size)))"
   ]
  },
  {
   "cell_type": "markdown",
   "id": "bf7ca031-8420-4565-a243-787ead38562b",
   "metadata": {
    "deletable": false,
    "editable": false,
    "nbgrader": {
     "cell_type": "markdown",
     "checksum": "ee6a6d73815e5ee9458489479c175eda",
     "grade": false,
     "grade_id": "cell-c15bac9a06a435af",
     "locked": true,
     "schema_version": 3,
     "solution": false,
     "task": false
    },
    "tags": []
   },
   "source": [
    "### Step 3: Define the neural network\n",
    "\n",
    "Next, you will define the neural network using PyTorch's nn module. You can choose any architecture you like, but for simplicity, we will use a basic convolutional neural network (CNN)."
   ]
  },
  {
   "cell_type": "code",
   "execution_count": null,
   "id": "ace036bc-a907-423e-b9f7-ddccb9ccac4b",
   "metadata": {
    "deletable": false,
    "editable": false,
    "nbgrader": {
     "cell_type": "code",
     "checksum": "dc111509c0a4e3edc404dfef03497cec",
     "grade": false,
     "grade_id": "cell-3e963d16aa7654f1",
     "locked": true,
     "schema_version": 3,
     "solution": false,
     "task": false
    },
    "tags": []
   },
   "outputs": [],
   "source": [
    "set_seed(0)\n",
    "\n",
    "# Define a convolution neural network\n",
    "class Network(nn.Module):\n",
    "    def __init__(self):\n",
    "        super(Network, self).__init__()\n",
    "\n",
    "        self.conv1 = nn.Conv2d(in_channels=3, out_channels=12, kernel_size=5, \n",
    "                               stride=1, padding=1)\n",
    "        self.bn1 = nn.BatchNorm2d(12)\n",
    "        self.conv2 = nn.Conv2d(in_channels=12, out_channels=12, kernel_size=5, \n",
    "                               stride=1, padding=1)\n",
    "        self.bn2 = nn.BatchNorm2d(12)\n",
    "        self.pool = nn.MaxPool2d(2,2)\n",
    "        self.conv4 = nn.Conv2d(in_channels=12, out_channels=24, kernel_size=5, \n",
    "                               stride=1, padding=1)\n",
    "        self.bn4 = nn.BatchNorm2d(24)\n",
    "        self.conv5 = nn.Conv2d(in_channels=24, out_channels=24, kernel_size=5, \n",
    "                               stride=1, padding=1)\n",
    "        self.bn5 = nn.BatchNorm2d(24)\n",
    "        self.fc1 = nn.Linear(24*10*10, 10)\n",
    "\n",
    "    def forward(self, input):\n",
    "        output = F.relu(self.bn1(self.conv1(input)))      \n",
    "        output = F.relu(self.bn2(self.conv2(output)))     \n",
    "        output = self.pool(output)                        \n",
    "        output = F.relu(self.bn4(self.conv4(output)))     \n",
    "        output = F.relu(self.bn5(self.conv5(output)))     \n",
    "        output = output.view(-1, 24*10*10)\n",
    "        output = self.fc1(output)\n",
    "        return output\n",
    "\n",
    "# Instantiate a neural network model \n",
    "model = Network()"
   ]
  },
  {
   "cell_type": "markdown",
   "id": "36a49509-8450-4fb4-b2a3-c6f1c8c60cce",
   "metadata": {
    "deletable": false,
    "editable": false,
    "nbgrader": {
     "cell_type": "markdown",
     "checksum": "042cf5f1447eb85ce26f88f35e3928e9",
     "grade": false,
     "grade_id": "cell-1e6c13791b11a0f4",
     "locked": true,
     "schema_version": 3,
     "solution": false,
     "task": false
    },
    "tags": []
   },
   "source": [
    "### Step 4: Train the neural network\n",
    "\n",
    "Now you will train the neural network using stochastic gradient descent (SGD) with a learning rate of 0.001 and a batch size of 32."
   ]
  },
  {
   "cell_type": "code",
   "execution_count": null,
   "id": "35edceb6-eb4e-4568-9dac-7a7b712119f4",
   "metadata": {
    "deletable": false,
    "editable": false,
    "nbgrader": {
     "cell_type": "code",
     "checksum": "8b3818b7d98b900b30011cf73dbaff72",
     "grade": false,
     "grade_id": "cell-9d5a08dea505c6b8",
     "locked": true,
     "schema_version": 3,
     "solution": false,
     "task": false
    }
   },
   "outputs": [],
   "source": [
    "set_seed(0)\n",
    "\n",
    "# Define the loss function and optimizer\n",
    "criterion = nn.CrossEntropyLoss()\n",
    "optimizer = optim.Adam(model.parameters(), lr=0.001, weight_decay=0.0001)\n",
    "num_epochs = 10\n",
    "\n",
    "train_loss = []\n",
    "valid_loss = []\n",
    "\n",
    "# Train the network\n",
    "for epoch in range(num_epochs):\n",
    "    running_loss = 0.0\n",
    "    pbar = tqdm(enumerate(trainloader, 0), total=len(trainloader))\n",
    "    for i, data in pbar:\n",
    "        inputs, labels = data\n",
    "\n",
    "        optimizer.zero_grad()\n",
    "\n",
    "        outputs = model(inputs)\n",
    "        loss = criterion(outputs, labels)\n",
    "        loss.backward()\n",
    "        optimizer.step()\n",
    "\n",
    "        running_loss += loss.item()\n",
    "        pbar.set_description(\n",
    "                f'Train Loss: {loss.item():.6f},  epoch: {epoch}/{num_epochs}')\n",
    "    train_loss.append(running_loss / len(trainloader))\n",
    "\n",
    "    model.eval()\n",
    "    pbar = tqdm(enumerate(validloader, 0), total=len(validloader))\n",
    "    running_val_loss = 0.0\n",
    "    with torch.no_grad():\n",
    "        for i, data in pbar:\n",
    "            images, labels = data\n",
    "            outputs = model(images)\n",
    "            loss = criterion(outputs, labels)\n",
    "            running_val_loss += loss.item()\n",
    "            pbar.set_description(\n",
    "                f'Validation Loss: {loss.item():.6f},  epoch: {epoch}/{num_epochs}')\n",
    "        valid_loss.append(running_val_loss / len(validloader))"
   ]
  },
  {
   "cell_type": "code",
   "execution_count": null,
   "id": "dc392bae-a1ba-4d00-8849-437afd208829",
   "metadata": {
    "deletable": false,
    "editable": false,
    "nbgrader": {
     "cell_type": "code",
     "checksum": "ccfc5a444bdaf05feb5702759ddee335",
     "grade": false,
     "grade_id": "cell-550611bd3028a95e",
     "locked": true,
     "schema_version": 3,
     "solution": false,
     "task": false
    }
   },
   "outputs": [],
   "source": [
    "#### Saving pretrained model\n",
    "torch.save(model.state_dict(), 'pretrained_model_1.ckpt')"
   ]
  },
  {
   "cell_type": "code",
   "execution_count": null,
   "id": "e99d5928-9d18-4247-99de-be4b8afc49f8",
   "metadata": {
    "deletable": false,
    "editable": false,
    "nbgrader": {
     "cell_type": "code",
     "checksum": "df9475d0638c7c351e7a9864f01a332e",
     "grade": false,
     "grade_id": "cell-0e20aec7e175cb83",
     "locked": true,
     "schema_version": 3,
     "solution": false,
     "task": false
    },
    "tags": []
   },
   "outputs": [],
   "source": [
    "plt.figure(figsize=(8,4))\n",
    "plt.plot(range(1, num_epochs + 1), train_loss, label='Train Loss')\n",
    "plt.plot(range(1, num_epochs + 1), valid_loss, label='Validation Loss')\n",
    "plt.xlabel('Epochs')\n",
    "plt.ylabel('Loss')\n",
    "plt.legend()\n",
    "plt.show()"
   ]
  },
  {
   "cell_type": "markdown",
   "id": "3f670b22-9a42-41c7-8b0d-a6b25750fee9",
   "metadata": {
    "deletable": false,
    "editable": false,
    "nbgrader": {
     "cell_type": "markdown",
     "checksum": "08d2462702a85e589fac0bbc947909f8",
     "grade": false,
     "grade_id": "cell-df2efad81e4ea7ea",
     "locked": true,
     "schema_version": 3,
     "solution": false,
     "task": false
    },
    "tags": []
   },
   "source": [
    "### Step 5: Evaluate the neural network\n",
    "\n",
    "Finally, you will evaluate the performance of the neural network on the test set."
   ]
  },
  {
   "cell_type": "code",
   "execution_count": null,
   "id": "0c533a55-d09f-4cdc-a418-17454b87038d",
   "metadata": {
    "deletable": false,
    "editable": false,
    "nbgrader": {
     "cell_type": "code",
     "checksum": "c90834996e0a7bcb50ba81cdb02eb6e8",
     "grade": false,
     "grade_id": "cell-df3945eb8ddb2593",
     "locked": true,
     "schema_version": 3,
     "solution": false,
     "task": false
    }
   },
   "outputs": [],
   "source": [
    "### Loading the pretrained model if exists\n",
    "if os.path.exists('pretrained_model1_.ckpt'):\n",
    "    model.load_state_dict(torch.load('pretrained_model_1.ckpt'))"
   ]
  },
  {
   "cell_type": "code",
   "execution_count": null,
   "id": "d42c05c9-7d7c-4540-aa2f-785495ddfe6c",
   "metadata": {
    "deletable": false,
    "editable": false,
    "nbgrader": {
     "cell_type": "code",
     "checksum": "192d0982452799e3109479a70f4f4f4f",
     "grade": false,
     "grade_id": "cell-8e6e16b368e970c6",
     "locked": true,
     "schema_version": 3,
     "solution": false,
     "task": false
    }
   },
   "outputs": [],
   "source": [
    "# Evaluate the network on the validation set\n",
    "model.eval()\n",
    "\n",
    "y_true = []\n",
    "y_pred = []\n",
    "with torch.no_grad():\n",
    "    for data in testloader:\n",
    "        images, labels = data\n",
    "        outputs = model(images)\n",
    "        _, predicted = torch.max(outputs.data, 1)\n",
    "        y_true.extend(labels.tolist())\n",
    "        y_pred.extend(predicted.tolist())"
   ]
  },
  {
   "cell_type": "code",
   "execution_count": null,
   "id": "f0d55043-af1c-4a06-ba91-6ff497643cf5",
   "metadata": {
    "deletable": false,
    "editable": false,
    "nbgrader": {
     "cell_type": "code",
     "checksum": "a8d9816e30c20b1db44c2b11e836dc73",
     "grade": false,
     "grade_id": "cell-223d2318bf6b23c2",
     "locked": true,
     "schema_version": 3,
     "solution": false,
     "task": false
    },
    "tags": []
   },
   "outputs": [],
   "source": [
    "confusion_mat = confusion_matrix(y_true, y_pred)\n",
    "disp = ConfusionMatrixDisplay(confusion_matrix=confusion_mat, \n",
    "                              display_labels=classes)\n",
    "disp.plot()\n",
    "plt.show()"
   ]
  },
  {
   "cell_type": "code",
   "execution_count": null,
   "id": "cc1683ee-01c6-4d9e-82d5-019a59333ed2",
   "metadata": {
    "deletable": false,
    "nbgrader": {
     "cell_type": "code",
     "checksum": "b69bfa257917ad14d67eaa64f73098b3",
     "grade": false,
     "grade_id": "accuracy",
     "locked": false,
     "schema_version": 3,
     "solution": true,
     "task": false
    },
    "tags": []
   },
   "outputs": [],
   "source": [
    "def accuracy_np(predictions, targets):\n",
    "    \"\"\"\n",
    "    Calculates the accuracy of predicted labels given the actual labels, using NumPy.\n",
    "\n",
    "    Args:\n",
    "      predictions: an array of predicted labels (shape: N)\n",
    "      targets: an array of actual labels (shape: N)\n",
    "\n",
    "    Returns:\n",
    "      accuracy: the accuracy of the predictions (scalar)\n",
    "    \"\"\"\n",
    "    # YOUR CODE HERE\n",
    "    raise NotImplementedError()"
   ]
  },
  {
   "cell_type": "code",
   "execution_count": null,
   "id": "d13a9c3c-dbd7-4861-961f-4274c7b078da",
   "metadata": {
    "deletable": false,
    "editable": false,
    "nbgrader": {
     "cell_type": "code",
     "checksum": "03c231bbe2390edacaceec3b0f1f81d1",
     "grade": true,
     "grade_id": "accuracy_test",
     "locked": true,
     "points": 1,
     "schema_version": 3,
     "solution": false,
     "task": false
    },
    "tags": []
   },
   "outputs": [],
   "source": [
    "assert accuracy_np([1, 1, 1, 1], [1, 1, 1, 1]) == 1.0\n",
    "assert accuracy_np([1, 1, 1, 0], [1, 1, 1, 1]) == 0.75"
   ]
  },
  {
   "cell_type": "code",
   "execution_count": null,
   "id": "de5f1d17-85af-44d3-84f3-bf8472ace202",
   "metadata": {
    "deletable": false,
    "nbgrader": {
     "cell_type": "code",
     "checksum": "49f82440a0b7be7470e30b41a2481674",
     "grade": false,
     "grade_id": "recall",
     "locked": false,
     "schema_version": 3,
     "solution": true,
     "task": false
    },
    "tags": []
   },
   "outputs": [],
   "source": [
    "def recall_np(predictions, targets, class_id):\n",
    "    \"\"\"\n",
    "    Calculates the recall of a given class given the predicted labels and actual labels, using NumPy.\n",
    "\n",
    "    Args:\n",
    "      predictions: an array of predicted labels (shape: N)\n",
    "      targets: an array of actual labels (shape: N)\n",
    "      class_id: the ID of the class to calculate recall for\n",
    "\n",
    "    Returns:\n",
    "      recall: the recall of the specified class (scalar), \n",
    "      if the divisor is 0, the result should be 0.\n",
    "    \"\"\"\n",
    "    # YOUR CODE HERE\n",
    "    raise NotImplementedError()"
   ]
  },
  {
   "cell_type": "code",
   "execution_count": null,
   "id": "2656f960-464e-40d8-aab1-deb795c3120a",
   "metadata": {
    "deletable": false,
    "editable": false,
    "nbgrader": {
     "cell_type": "code",
     "checksum": "307471fa921d03dc7baa1fe408ecd72d",
     "grade": true,
     "grade_id": "recall_test",
     "locked": true,
     "points": 1,
     "schema_version": 3,
     "solution": false,
     "task": false
    },
    "tags": []
   },
   "outputs": [],
   "source": [
    "assert recall_np([1, 2, 1, 1], [1, 1, 2, 1], 0) == 0\n",
    "assert recall_np([1, 1, 1, 1], [1, 1, 2, 1], 1) == 1.0"
   ]
  },
  {
   "cell_type": "code",
   "execution_count": null,
   "id": "b5f7a973-b77c-4ae6-96da-bd2fa9d68d68",
   "metadata": {
    "deletable": false,
    "nbgrader": {
     "cell_type": "code",
     "checksum": "c51eb0f7db87c9c07b12bce9a1efba4f",
     "grade": false,
     "grade_id": "precision",
     "locked": false,
     "schema_version": 3,
     "solution": true,
     "task": false
    },
    "tags": []
   },
   "outputs": [],
   "source": [
    "def precision_np(predictions, targets, class_id):\n",
    "    \"\"\"\n",
    "    Calculates the precision of a given class given the predicted labels and actual labels, using NumPy.\n",
    "\n",
    "    Args:\n",
    "      predictions: an array of predicted labels (shape: N)\n",
    "      targets: an array of actual labels (shape: N)\n",
    "      class_id: the ID of the class to calculate precision for\n",
    "\n",
    "    Returns:\n",
    "      precision: the precision of the specified class (scalar),\n",
    "      if the divisor is 0, the result should be 0.\n",
    "    \"\"\"\n",
    "    # YOUR CODE HERE\n",
    "    raise NotImplementedError()"
   ]
  },
  {
   "cell_type": "code",
   "execution_count": null,
   "id": "ea93dcf7-b6f8-4e4e-850c-dae7a930ea9a",
   "metadata": {
    "deletable": false,
    "editable": false,
    "nbgrader": {
     "cell_type": "code",
     "checksum": "74e82ea17a97f2181c5790887b21293b",
     "grade": true,
     "grade_id": "precision_test",
     "locked": true,
     "points": 1,
     "schema_version": 3,
     "solution": false,
     "task": false
    },
    "tags": []
   },
   "outputs": [],
   "source": [
    "assert precision_np([1, 2, 1, 1], [1, 1, 2, 1], 0) == 0\n",
    "assert precision_np([1, 1, 1, 1], [1, 1, 2, 1], 1) == 0.75"
   ]
  },
  {
   "cell_type": "code",
   "execution_count": null,
   "id": "54fc16b8-fc3b-4b3b-99fe-6892bf21b199",
   "metadata": {
    "deletable": false,
    "editable": false,
    "nbgrader": {
     "cell_type": "code",
     "checksum": "1e0476d0a7342e48f2d1ad5e40d60725",
     "grade": false,
     "grade_id": "cell-196346bed01d29c9",
     "locked": true,
     "schema_version": 3,
     "solution": false,
     "task": false
    },
    "tags": []
   },
   "outputs": [],
   "source": [
    "print(f'Accuracy_ {accuracy_np(y_pred, y_true)}')"
   ]
  },
  {
   "cell_type": "code",
   "execution_count": null,
   "id": "e6152210-6c03-478a-9545-116d7b2a954f",
   "metadata": {
    "deletable": false,
    "editable": false,
    "nbgrader": {
     "cell_type": "code",
     "checksum": "918a5c432ed49bfeaa4d5600ca6e5f97",
     "grade": false,
     "grade_id": "cell-68fd25480ec4e19a",
     "locked": true,
     "schema_version": 3,
     "solution": false,
     "task": false
    }
   },
   "outputs": [],
   "source": [
    "print('Recall per class:')\n",
    "for i in range(len(classes)):\n",
    "    print(f'{classes[i]}: {recall_np(y_pred, y_true, i)}')"
   ]
  },
  {
   "cell_type": "code",
   "execution_count": null,
   "id": "a5fb39b9-a788-4788-a46c-8c825ee0be83",
   "metadata": {
    "deletable": false,
    "editable": false,
    "nbgrader": {
     "cell_type": "code",
     "checksum": "4eb0ff5cffd90a4306b4bae07fec973d",
     "grade": false,
     "grade_id": "cell-f5727cb22acd47e8",
     "locked": true,
     "schema_version": 3,
     "solution": false,
     "task": false
    }
   },
   "outputs": [],
   "source": [
    "print('Precision per class:')\n",
    "for i in range(len(classes)):\n",
    "    print(f'{classes[i]}: {precision_np(y_pred, y_true, i)}')"
   ]
  },
  {
   "cell_type": "markdown",
   "id": "479222ba-8ce5-4e71-bff3-3a6e6b413ed3",
   "metadata": {
    "deletable": false,
    "editable": false,
    "nbgrader": {
     "cell_type": "markdown",
     "checksum": "da4fe02ff569ee27ccc2b022e6731197",
     "grade": false,
     "grade_id": "cell-459611b200677239",
     "locked": true,
     "schema_version": 3,
     "solution": false,
     "task": false
    },
    "tags": []
   },
   "source": [
    "# Image classification with Data Augmentation"
   ]
  },
  {
   "cell_type": "markdown",
   "id": "9ab6f269-e55e-438c-86da-f5ebb83188de",
   "metadata": {
    "deletable": false,
    "editable": false,
    "nbgrader": {
     "cell_type": "markdown",
     "checksum": "53f0c9869ac778e667645c6d92b37ac8",
     "grade": false,
     "grade_id": "cell-37a6ba7790a41653",
     "locked": true,
     "schema_version": 3,
     "solution": false,
     "task": false
    }
   },
   "source": [
    "### Step 6: Define the transformations\n",
    "We can easily add more images dding some transformations to the images. In particular, we added:\n",
    "- RandomHorizontalFlip: randomly flips the image thorugh the horizontal axis\n",
    "- ColorJitter: randomly adjusts brightness, contrast, saturation, and hue of the image.\n",
    "- GaussianBlur: applies Gaussian blur with a given kernel size and standard deviation."
   ]
  },
  {
   "cell_type": "code",
   "execution_count": null,
   "id": "58a316ed-8a9a-4cfd-accd-47c23a87ba4b",
   "metadata": {
    "deletable": false,
    "editable": false,
    "nbgrader": {
     "cell_type": "code",
     "checksum": "af8aad8d7b1537c87f35603880684414",
     "grade": false,
     "grade_id": "cell-3a93c5f9ef45f5c0",
     "locked": true,
     "schema_version": 3,
     "solution": false,
     "task": false
    },
    "tags": []
   },
   "outputs": [],
   "source": [
    "set_seed(0)\n",
    "batch_size = 10\n",
    "\n",
    "# Define the transforms to be applied to the data\n",
    "transform = transforms.Compose([\n",
    "    transforms.RandomHorizontalFlip(), \n",
    "    transforms.ColorJitter(brightness=0.1, contrast=0.1, \n",
    "                           saturation=0.1, hue=0.1),\n",
    "    transforms.GaussianBlur(kernel_size=3, \n",
    "                            sigma=(0.1, 2.0)),\n",
    "    transforms.ToTensor(),\n",
    "    transforms.Normalize((0.5, 0.5, 0.5), (0.5, 0.5, 0.5))\n",
    "])\n",
    "\n",
    "# Load the CIFAR-10 dataset\n",
    "trainset = torchvision.datasets.CIFAR10(root='./data', train=True,\n",
    "                                        download=True, transform=transform)\n",
    "testset = torchvision.datasets.CIFAR10(root='./data', train=False,\n",
    "                                       download=True, transform=transform)\n",
    "\n",
    "# Split the training set into training and validation sets\n",
    "trainset, valset = torch.utils.data.random_split(trainset, [40000, 10000])\n",
    "\n",
    "\n",
    "# Initialize the data loader for the training set\n",
    "trainloader = torch.utils.data.DataLoader(trainset, batch_size=batch_size,\n",
    "                                          shuffle=True, num_workers=2)\n",
    "validloader = torch.utils.data.DataLoader(valset, batch_size=batch_size,\n",
    "                                          shuffle=False, num_workers=2)\n",
    "testloader = torch.utils.data.DataLoader(testset, batch_size=batch_size, \n",
    "                                         shuffle=False, num_workers=2)\n",
    "\n",
    "classes = ('plane', 'car', 'bird', 'cat', 'deer', 'dog', 'frog', \n",
    "           'horse', 'ship', 'truck')"
   ]
  },
  {
   "cell_type": "markdown",
   "id": "92d31b0e-5290-4d40-a33a-71bd623dd3a7",
   "metadata": {
    "deletable": false,
    "editable": false,
    "nbgrader": {
     "cell_type": "markdown",
     "checksum": "066e757c356bcfc672166b380cd595f9",
     "grade": false,
     "grade_id": "cell-aa618b7da6fc4a2e",
     "locked": true,
     "schema_version": 3,
     "solution": false,
     "task": false
    }
   },
   "source": [
    "### Step 7: Instantiate an new model"
   ]
  },
  {
   "cell_type": "code",
   "execution_count": null,
   "id": "abd764c3-efdf-4c67-86bb-76915d9e24a4",
   "metadata": {
    "deletable": false,
    "editable": false,
    "nbgrader": {
     "cell_type": "code",
     "checksum": "bf6e59ad4f6201299ceddc5260a4d6eb",
     "grade": false,
     "grade_id": "cell-05d6714a6a02f0bb",
     "locked": true,
     "schema_version": 3,
     "solution": false,
     "task": false
    }
   },
   "outputs": [],
   "source": [
    "set_seed(0)\n",
    "# Instantiate a neural network model \n",
    "model = Network()"
   ]
  },
  {
   "cell_type": "markdown",
   "id": "2d354dfe-a2dc-4468-957d-3dbc5403b973",
   "metadata": {
    "deletable": false,
    "editable": false,
    "nbgrader": {
     "cell_type": "markdown",
     "checksum": "7b123a963ef865e0bea602422dde64fa",
     "grade": false,
     "grade_id": "cell-efe2ba71cb74fac8",
     "locked": true,
     "schema_version": 3,
     "solution": false,
     "task": false
    }
   },
   "source": [
    "### Step 8: Train the model"
   ]
  },
  {
   "cell_type": "code",
   "execution_count": null,
   "id": "e17e2d3f-081c-4d29-9977-d2f9e633bd48",
   "metadata": {
    "deletable": false,
    "editable": false,
    "nbgrader": {
     "cell_type": "code",
     "checksum": "3370ffecd62df1f1d25da2ffe9495208",
     "grade": false,
     "grade_id": "cell-84410f9ca12a6b0c",
     "locked": true,
     "schema_version": 3,
     "solution": false,
     "task": false
    }
   },
   "outputs": [],
   "source": [
    "set_seed(0)\n",
    "\n",
    "# Define the loss function and optimizer\n",
    "criterion = nn.CrossEntropyLoss()\n",
    "optimizer = optim.Adam(model.parameters(), lr=0.001, weight_decay=0.0001)\n",
    "num_epochs = 10\n",
    "\n",
    "train_loss = []\n",
    "valid_loss = []\n",
    "\n",
    "# Train the network\n",
    "for epoch in range(num_epochs):\n",
    "    running_loss = 0.0\n",
    "    pbar = tqdm(enumerate(trainloader, 0), total=len(trainloader))\n",
    "    for i, data in pbar:\n",
    "        inputs, labels = data\n",
    "\n",
    "        optimizer.zero_grad()\n",
    "\n",
    "        outputs = model(inputs)\n",
    "        loss = criterion(outputs, labels)\n",
    "        loss.backward()\n",
    "        optimizer.step()\n",
    "\n",
    "        running_loss += loss.item()\n",
    "        pbar.set_description(\n",
    "            f'Train Loss: {loss.item():.6f},  epoch: {epoch}/{num_epochs}')\n",
    "    train_loss.append(running_loss / len(trainloader))\n",
    "\n",
    "    model.eval()\n",
    "    pbar = tqdm(enumerate(validloader, 0), total=len(validloader))\n",
    "    running_val_loss = 0.0\n",
    "    with torch.no_grad():\n",
    "        for i, data in pbar:\n",
    "            images, labels = data\n",
    "            outputs = model(images)\n",
    "            loss = criterion(outputs, labels)\n",
    "            running_val_loss += loss.item()\n",
    "            pbar.set_description(\n",
    "                f'Validation Loss: {loss.item():.6f},  epoch: {epoch}/{num_epochs}')\n",
    "        valid_loss.append(running_val_loss / len(validloader))"
   ]
  },
  {
   "cell_type": "code",
   "execution_count": null,
   "id": "0821d024-605d-4e58-9d1c-ae13833ce77d",
   "metadata": {
    "deletable": false,
    "editable": false,
    "nbgrader": {
     "cell_type": "code",
     "checksum": "0233f26c9f41fd6d4bdd997fe2df18b4",
     "grade": false,
     "grade_id": "cell-4e319ee40459e347",
     "locked": true,
     "schema_version": 3,
     "solution": false,
     "task": false
    },
    "tags": []
   },
   "outputs": [],
   "source": [
    "#### Saving pretrained model\n",
    "torch.save(model.state_dict(), 'pretrained_model_2.ckpt')"
   ]
  },
  {
   "cell_type": "code",
   "execution_count": null,
   "id": "21e3e2ba-abda-4525-9322-cc3a3b0b7f7f",
   "metadata": {
    "deletable": false,
    "editable": false,
    "nbgrader": {
     "cell_type": "code",
     "checksum": "32edd7bbc15196ba84405d04329e84fd",
     "grade": false,
     "grade_id": "cell-cb9b1a6fe7afa687",
     "locked": true,
     "schema_version": 3,
     "solution": false,
     "task": false
    },
    "tags": []
   },
   "outputs": [],
   "source": [
    "plt.figure(figsize=(8,4))\n",
    "plt.plot(range(1, num_epochs + 1), train_loss, label='Train Loss')\n",
    "plt.plot(range(1, num_epochs + 1), valid_loss, label='Validation Loss')\n",
    "plt.xlabel('Epochs')\n",
    "plt.ylabel('Loss')\n",
    "plt.legend()\n",
    "plt.show()"
   ]
  },
  {
   "cell_type": "markdown",
   "id": "98eaea75-5cae-436b-979a-294e6d4cf1ba",
   "metadata": {
    "deletable": false,
    "editable": false,
    "nbgrader": {
     "cell_type": "markdown",
     "checksum": "56480305c2828534858506e4a57afa95",
     "grade": false,
     "grade_id": "cell-00121b3eaac7db97",
     "locked": true,
     "schema_version": 3,
     "solution": false,
     "task": false
    },
    "tags": []
   },
   "source": [
    "### Step 9: Evaluate the model"
   ]
  },
  {
   "cell_type": "code",
   "execution_count": null,
   "id": "c5818792-1f1e-4554-93e4-d90bd07dbd08",
   "metadata": {
    "deletable": false,
    "editable": false,
    "nbgrader": {
     "cell_type": "code",
     "checksum": "25a21d83af518e86de28b5e86a2ccd19",
     "grade": false,
     "grade_id": "cell-e8591cb4a02bd0c2",
     "locked": true,
     "schema_version": 3,
     "solution": false,
     "task": false
    }
   },
   "outputs": [],
   "source": [
    "### Loading the pretrained model if exists\n",
    "if os.path.exists('pretrained_model_2.ckpt'):\n",
    "    model.load_state_dict(torch.load('pretrained_model_2.ckpt'))"
   ]
  },
  {
   "cell_type": "code",
   "execution_count": null,
   "id": "fd468166-3e9f-4cbe-aa35-75786d894ac8",
   "metadata": {
    "deletable": false,
    "editable": false,
    "nbgrader": {
     "cell_type": "code",
     "checksum": "19c3dba07ef86a03ba95d12d01490f00",
     "grade": false,
     "grade_id": "cell-94782524d2729b77",
     "locked": true,
     "schema_version": 3,
     "solution": false,
     "task": false
    }
   },
   "outputs": [],
   "source": [
    "# Evaluate the network on the validation set\n",
    "model.eval()\n",
    "\n",
    "y_true = []\n",
    "y_pred = []\n",
    "with torch.no_grad():\n",
    "    for data in testloader:\n",
    "        images, labels = data\n",
    "        outputs = model(images)\n",
    "        _, predicted = torch.max(outputs.data, 1)\n",
    "        y_true.extend(labels.tolist())\n",
    "        y_pred.extend(predicted.tolist())"
   ]
  },
  {
   "cell_type": "code",
   "execution_count": null,
   "id": "e0b8b4ba-84dd-4a5f-a3fe-a3f77a665ad9",
   "metadata": {
    "deletable": false,
    "editable": false,
    "nbgrader": {
     "cell_type": "code",
     "checksum": "f978c2e6d9e3f4489c6b493b5f6bbe45",
     "grade": false,
     "grade_id": "cell-a9a320d50f388afa",
     "locked": true,
     "schema_version": 3,
     "solution": false,
     "task": false
    }
   },
   "outputs": [],
   "source": [
    "confusion_mat = confusion_matrix(y_true, y_pred)\n",
    "disp = ConfusionMatrixDisplay(confusion_matrix=confusion_mat, \n",
    "                              display_labels=classes)\n",
    "disp.plot()\n",
    "plt.show()"
   ]
  },
  {
   "cell_type": "code",
   "execution_count": null,
   "id": "21966769-4bb5-4c36-9e4c-24e71eec85da",
   "metadata": {
    "deletable": false,
    "editable": false,
    "nbgrader": {
     "cell_type": "code",
     "checksum": "b3ed1fc3b0e109168d3bdca727bc5834",
     "grade": false,
     "grade_id": "cell-f9c187bd558364b8",
     "locked": true,
     "schema_version": 3,
     "solution": false,
     "task": false
    }
   },
   "outputs": [],
   "source": [
    "print(f'Accuracy_ {accuracy_np(y_pred, y_true)}')"
   ]
  },
  {
   "cell_type": "code",
   "execution_count": null,
   "id": "29f3277e-d82a-4a7b-a544-4809947f9f19",
   "metadata": {
    "deletable": false,
    "editable": false,
    "nbgrader": {
     "cell_type": "code",
     "checksum": "e0d3d3bf6607c2793d2c20aadd5339e4",
     "grade": false,
     "grade_id": "cell-8c9936cdecd5adb0",
     "locked": true,
     "schema_version": 3,
     "solution": false,
     "task": false
    }
   },
   "outputs": [],
   "source": [
    "print('Recall per class:')\n",
    "for i in range(len(classes)):\n",
    "    print(f'{classes[i]}: {recall_np(y_pred, y_true, i)}')"
   ]
  },
  {
   "cell_type": "code",
   "execution_count": null,
   "id": "1ac53de5-55e2-4357-9da4-960b6132378c",
   "metadata": {
    "deletable": false,
    "editable": false,
    "nbgrader": {
     "cell_type": "code",
     "checksum": "2e8a317e4477d0b502db178548f9ccad",
     "grade": false,
     "grade_id": "cell-87ca3b6660206a56",
     "locked": true,
     "schema_version": 3,
     "solution": false,
     "task": false
    },
    "tags": []
   },
   "outputs": [],
   "source": [
    "print('Precision per class:')\n",
    "for i in range(len(classes)):\n",
    "    print(f'{classes[i]}: {precision_np(y_pred, y_true, i)}')"
   ]
  },
  {
   "cell_type": "markdown",
   "id": "8b44b315-6f94-41d9-af9d-0511f340967e",
   "metadata": {
    "deletable": false,
    "editable": false,
    "nbgrader": {
     "cell_type": "markdown",
     "checksum": "be64f5564d198b1fc20135e064f5b2c2",
     "grade": false,
     "grade_id": "cell-31d8617095e964d9",
     "locked": true,
     "schema_version": 3,
     "solution": false,
     "task": false
    }
   },
   "source": [
    "## Answer the following questions"
   ]
  },
  {
   "cell_type": "markdown",
   "id": "91836cf9-422f-42f1-ace4-636e6b3d7f46",
   "metadata": {
    "deletable": false,
    "editable": false,
    "nbgrader": {
     "cell_type": "markdown",
     "checksum": "8b6b1fad28c1e51842a3fb314963ed65",
     "grade": false,
     "grade_id": "cell-be185574a77cbcad",
     "locked": true,
     "schema_version": 3,
     "solution": false,
     "task": false
    },
    "tags": []
   },
   "source": [
    "1. Analyze the plots (loss curves) in both models. What do they indicate? Discuss it in detail. (2 point)"
   ]
  },
  {
   "cell_type": "markdown",
   "id": "17fdb03e-b2d9-418c-af48-f3aaab60013f",
   "metadata": {
    "deletable": false,
    "nbgrader": {
     "cell_type": "markdown",
     "checksum": "c418c76aba28c6c2e9b779213af74a92",
     "grade": true,
     "grade_id": "question_1",
     "locked": false,
     "points": 2,
     "schema_version": 3,
     "solution": true,
     "task": false
    },
    "tags": []
   },
   "source": [
    "YOUR ANSWER HERE"
   ]
  },
  {
   "cell_type": "markdown",
   "id": "8ed408f4-eaee-4b0d-954a-7d8cf62fcb51",
   "metadata": {
    "deletable": false,
    "editable": false,
    "nbgrader": {
     "cell_type": "markdown",
     "checksum": "fb636071e5de29e53901e46a73876d11",
     "grade": false,
     "grade_id": "cell-8996e44b31e2c615",
     "locked": true,
     "schema_version": 3,
     "solution": false,
     "task": false
    }
   },
   "source": [
    "2. Analyze the confussion matrix in both models. What images are more problematic for the models? What images are easier ? Discuss it in detail. (2 points)"
   ]
  },
  {
   "cell_type": "markdown",
   "id": "91156594-1a6f-4400-8997-2c96c88bafd1",
   "metadata": {
    "deletable": false,
    "nbgrader": {
     "cell_type": "markdown",
     "checksum": "10925466abecc41b43c90c038f88c81b",
     "grade": true,
     "grade_id": "question_2",
     "locked": false,
     "points": 2,
     "schema_version": 3,
     "solution": true,
     "task": false
    },
    "tags": []
   },
   "source": [
    "YOUR ANSWER HERE"
   ]
  },
  {
   "cell_type": "markdown",
   "id": "366ccecf-ac8a-4b99-8e1e-0fb00d3fc968",
   "metadata": {
    "deletable": false,
    "editable": false,
    "nbgrader": {
     "cell_type": "markdown",
     "checksum": "22e009ba02a4c478b0e3e0fc71cae094",
     "grade": false,
     "grade_id": "cell-df1b5aaf33ed6d95",
     "locked": true,
     "schema_version": 3,
     "solution": false,
     "task": false
    },
    "tags": []
   },
   "source": [
    "3. Analize the metrics (accuracy, precision, and recall) of both models. Discuss the results in detail. (2 points)"
   ]
  },
  {
   "cell_type": "markdown",
   "id": "f71871f2-d554-46e6-90af-e4e90f8e732a",
   "metadata": {
    "deletable": false,
    "nbgrader": {
     "cell_type": "markdown",
     "checksum": "106486be536d77c9711c3c5abf38655f",
     "grade": true,
     "grade_id": "question_3",
     "locked": false,
     "points": 2,
     "schema_version": 3,
     "solution": true,
     "task": false
    },
    "tags": []
   },
   "source": [
    "YOUR ANSWER HERE"
   ]
  },
  {
   "cell_type": "markdown",
   "id": "6fb6f550-e39e-45aa-b7e9-bbbc1ca02c91",
   "metadata": {
    "deletable": false,
    "editable": false,
    "nbgrader": {
     "cell_type": "markdown",
     "checksum": "2b815a5cfe7b10dbdd5e64c5647a1968",
     "grade": false,
     "grade_id": "cell-b0695f3b7d4f9cd9",
     "locked": true,
     "schema_version": 3,
     "solution": false,
     "task": false
    },
    "tags": []
   },
   "source": [
    "4. How can you improve the results of the models? (1 point)"
   ]
  },
  {
   "cell_type": "markdown",
   "id": "ccfadf47-1a48-4145-af92-a6f3dcbfa83d",
   "metadata": {
    "deletable": false,
    "nbgrader": {
     "cell_type": "markdown",
     "checksum": "43e458d5d83d7c0c7dcf35865058106c",
     "grade": true,
     "grade_id": "question_4",
     "locked": false,
     "points": 0,
     "schema_version": 3,
     "solution": true,
     "task": false
    },
    "tags": []
   },
   "source": [
    "YOUR ANSWER HERE"
   ]
  }
 ],
 "metadata": {
  "kernelspec": {
   "display_name": "Python 3 (ipykernel)",
   "language": "python",
   "name": "python3"
  },
  "language_info": {
   "codemirror_mode": {
    "name": "ipython",
    "version": 3
   },
   "file_extension": ".py",
   "mimetype": "text/x-python",
   "name": "python",
   "nbconvert_exporter": "python",
   "pygments_lexer": "ipython3",
   "version": "3.8.16"
  }
 },
 "nbformat": 4,
 "nbformat_minor": 5
}
